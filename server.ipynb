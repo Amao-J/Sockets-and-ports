{
 "cells": [
  {
   "cell_type": "code",
   "execution_count": null,
   "metadata": {},
   "outputs": [],
   "source": [
    "import sys\n",
    "import socket\n",
    "\n",
    "\n",
    "tcp_ip =\"127.0.0.1\"\n",
    "tcp_port = 9999\n",
    "\n",
    "try:\n",
    "    tcp_connect = socket.socket(socket.AF_INET,socket.SOCK_STREAM)\n",
    "    \n",
    "except socket.error as e:\n",
    "    print(\"Error encountered while connecting\" +str(e[0],e[1]))\n",
    "    \n",
    "    sys.exit()\n",
    "    \n",
    "tcp_connect.bind((tcp_ip,tcp_port))\n",
    "tcp_connect.listen(2)\n",
    "print(\"Listening.....\")\n",
    "\n",
    "connection,address = tcp_connect.accept()\n",
    "print(\"connected to \" + str(address))\n",
    "\n",
    "connection.send(b\"Welcome to the server\")\n",
    "\n",
    "\n",
    "\n",
    "data = connection.recv(1024)\n",
    "print(\"Message from client \", data.decode(\"utf-8\"))\n",
    "\n",
    "\n",
    "\n",
    "\n",
    "\n",
    "connection.close()"
   ]
  },
  {
   "cell_type": "code",
   "execution_count": 1,
   "metadata": {},
   "outputs": [
    {
     "name": "stdout",
     "output_type": "stream",
     "text": [
      "<built-in function getcwd>\n"
     ]
    }
   ],
   "source": [
    "import os \n",
    "get = os.getcwd\n",
    "\n",
    "\n"
   ]
  },
  {
   "cell_type": "code",
   "execution_count": null,
   "metadata": {},
   "outputs": [],
   "source": [
    "import socket \n",
    "from threading import *\n",
    "import sys\n",
    "\n",
    "TCP_IP = \"127.0.0.1\"\n",
    "tCP_PORT = 9999\n",
    "try:\n",
    "    Tcp_connect = socket.socket(socket.AF_INET, socket.SOCK_STREAM)\n",
    "except socket.error as e:\n",
    "    print(\"Error occured while creating tcp connection\")\n",
    "    sys.exit()\n",
    "    \n",
    "    \n",
    "Tcp_connect.bind((TCP_IP,tCP_PORT))\n",
    "Tcp_connect.listen(10)\n",
    "print(\"Listening....\")\n",
    "\n",
    "def connectionhandler(connection):\n",
    "    BUFFER_SIZE = 1024\n",
    "    connection.sendall(b'welcome to the server')\n",
    "    \n",
    "    \n",
    "    \n",
    "    while True:\n",
    "        data = connection.recv(BUFFER_SIZE)\n",
    "        reply = 'Data recieved', data\n",
    "                \n",
    "        if not data:\n",
    "    \n",
    "            \n",
    "            break\n",
    "        connection.sendall(reply)\n",
    "    \n",
    "        connection.close()\n",
    "        \n",
    "while True:\n",
    "    conn, addr = Tcp_connect.accept()\n",
    "    print('connected to ' + str(addr))\n",
    "    Thread(target=connectionhandler ,args=conn)"
   ]
  }
 ],
 "metadata": {
  "kernelspec": {
   "display_name": "Python 3",
   "language": "python",
   "name": "python3"
  },
  "language_info": {
   "codemirror_mode": {
    "name": "ipython",
    "version": 3
   },
   "file_extension": ".py",
   "mimetype": "text/x-python",
   "name": "python",
   "nbconvert_exporter": "python",
   "pygments_lexer": "ipython3",
   "version": "3.10.11"
  },
  "orig_nbformat": 4
 },
 "nbformat": 4,
 "nbformat_minor": 2
}
